{
 "cells": [
  {
   "cell_type": "code",
   "execution_count": 1,
   "id": "cfc7460f",
   "metadata": {},
   "outputs": [
    {
     "ename": "ModuleNotFoundError",
     "evalue": "No module named 'pyspark'",
     "output_type": "error",
     "traceback": [
      "\u001b[1;31m---------------------------------------------------------------------------\u001b[0m",
      "\u001b[1;31mModuleNotFoundError\u001b[0m                       Traceback (most recent call last)",
      "\u001b[1;32m<ipython-input-1-388290cc3ca0>\u001b[0m in \u001b[0;36m<module>\u001b[1;34m\u001b[0m\n\u001b[1;32m----> 1\u001b[1;33m \u001b[1;32mimport\u001b[0m \u001b[0mpyspark\u001b[0m\u001b[1;33m\u001b[0m\u001b[1;33m\u001b[0m\u001b[0m\n\u001b[0m\u001b[0;32m      2\u001b[0m \u001b[1;32mimport\u001b[0m \u001b[0mtimeit\u001b[0m\u001b[1;33m\u001b[0m\u001b[1;33m\u001b[0m\u001b[0m\n\u001b[0;32m      3\u001b[0m \u001b[1;32mfrom\u001b[0m \u001b[0mpyspark\u001b[0m\u001b[1;33m.\u001b[0m\u001b[0msql\u001b[0m \u001b[1;32mimport\u001b[0m \u001b[0mSparkSession\u001b[0m\u001b[1;33m\u001b[0m\u001b[1;33m\u001b[0m\u001b[0m\n\u001b[0;32m      4\u001b[0m \u001b[0mspark\u001b[0m \u001b[1;33m=\u001b[0m \u001b[0mSparkSession\u001b[0m\u001b[0;31m \u001b[0m\u001b[0;31m\\\u001b[0m\u001b[1;33m\u001b[0m\u001b[1;33m\u001b[0m\u001b[0m\n\u001b[0;32m      5\u001b[0m     \u001b[1;33m.\u001b[0m\u001b[0mbuilder\u001b[0m\u001b[0;31m \u001b[0m\u001b[0;31m\\\u001b[0m\u001b[1;33m\u001b[0m\u001b[1;33m\u001b[0m\u001b[0m\n",
      "\u001b[1;31mModuleNotFoundError\u001b[0m: No module named 'pyspark'"
     ]
    }
   ],
   "source": [
    "import pyspark\n",
    "import timeit\n",
    "from pyspark.sql import SparkSession\n",
    "spark = SparkSession \\\n",
    "    .builder \\\n",
    "    .appName(\"Assignment\") \\\n",
    "    .enableHiveSupport() \\\n",
    "    .getOrCreate()\n"
   ]
  },
  {
   "cell_type": "code",
   "execution_count": null,
   "id": "114fbdbd",
   "metadata": {},
   "outputs": [],
   "source": [
    "yellow_taxi_2023=spark.read.parquet(\"s3://ngap--fin-plng-and-perf-mgmt--prod--us-west-2/dev/raw/internal-order/changes/playbook_files/yellow_tripdata_2023-01.parquet\")\n",
    "yellow_taxi_2023.printSchema()\n",
    "\n"
   ]
  },
  {
   "cell_type": "code",
   "execution_count": null,
   "id": "e6dcc019",
   "metadata": {},
   "outputs": [],
   "source": [
    "taxi_lookup=spark.read.option(\"header\",True) \\\n",
    "     .csv(\"s3://ngap--fin-plng-and-perf-mgmt--prod--us-west-2/dev/raw/internal-order/changes/playbook_files/taxi+_zone_lookup.csv\")\n",
    "taxi_lookup.printSchema()\n",
    "\n"
   ]
  },
  {
   "cell_type": "code",
   "execution_count": null,
   "id": "10ebd1cf",
   "metadata": {},
   "outputs": [],
   "source": [
    "start=timeit.default_timer()\n",
    "count_of_trips=yellow_taxi_2023.count()\n",
    "end=timeit.default_timer()\n",
    "elap_time_count=end-start\n"
   ]
  },
  {
   "cell_type": "code",
   "execution_count": null,
   "id": "22538da9",
   "metadata": {},
   "outputs": [],
   "source": [
    "from pyspark.sql.functions import mean\n",
    "start=timeit.default_timer()\n",
    "yellow_taxi_2023.select(mean ('trip_distance')).show()\n",
    "end=timeit.default_timer()\n",
    "elap_time_average=end-start\n"
   ]
  },
  {
   "cell_type": "code",
   "execution_count": null,
   "id": "f8e62d81",
   "metadata": {},
   "outputs": [],
   "source": [
    "from pyspark.sql.functions import mean,sum,avg\n",
    "start=timeit.default_timer()\n",
    "yellow_taxi_2023.select(sum('fare_amount')).show()\n",
    "end=timeit.default_timer()\n",
    "elap_time_sum=end-start\n"
   ]
  },
  {
   "cell_type": "code",
   "execution_count": null,
   "id": "7ab0e0ea",
   "metadata": {},
   "outputs": [],
   "source": [
    "from pyspark.sql.functions import  coalesce, lit, mean, sum, avg, col,SaveMode\n",
    "start=timeit.default_timer()\n",
    "comp_query=yellow_taxi_2023.alias(\"tripp\").join(taxi_lookup.alias(\"locc\"),\\\n",
    "                                                col(\"tripp.PULocationID\")==col(\"locc.LocationID\"),\"inner\")\\\n",
    ".select(col(\"locc.Borough\").alias(\"borough\"),\n",
    "        col(\"locc.Zone\").alias(\"zone\"),\n",
    "        col(\"tripp.fare_amount\").alias(\"fare\")).\\\n",
    "where(col(\"tripp.tolls_amount\") !=lit(0)).groupby(\"borough\").agg(avg(\"fare\").\\\n",
    "                                                    alias(\"average_fare_for_toll_routes\"))\n",
    "end=timeit.default_timer()\n",
    "elap_time_transformation=end-start\n",
    "start=timeit.default_timer()\n",
    "comp_query.show()\n",
    "end=timeit.default_timer()\n",
    "elap_time_action=end-start\n"
   ]
  },
  {
   "cell_type": "code",
   "execution_count": null,
   "id": "f3ee5987",
   "metadata": {},
   "outputs": [],
   "source": [
    "spark = SparkSession \\\n",
    "    .builder \\\n",
    "    .appName(\"Assignment\") \\\n",
    "    .enableHiveSupport() \\\n",
    "    .getOrCreate()\n",
    "\n",
    "# creation of empty datafreme for tracking time for operations\n",
    "from pyspark.sql.types import StructType,StructField, StringType, IntegerType,FloatType\n",
    "schema = StructType([ \\\n",
    "    StructField(\"operation\",StringType(),True), \\\n",
    "    StructField(\"spark_elapsed_time\",FloatType(),True), \\\n",
    "    StructField(\"hive_elapsed_time\",FloatType(),True)\n",
    "  ])\n",
    "data_collected = [(\"count\",elap_time_count,15.724),\n",
    "    (\"average\",elap_time_average,9.571),\n",
    "    (\"sum\",elap_time_sum,8.953),\n",
    "    (\"comp_query\",elap_time_action,18.86)\n",
    "  ]\n",
    "perfDf = spark.createDataFrame(data=data_collected,schema=schema)\n",
    "\n",
    "perfDf.write\\\n",
    "        .option(\"path\", \"s3://ngap--fin-plng-and-perf-mgmt--prod--us-west-2/dev/raw/internal-order/changes/playbook_files/hive_ext_table\")\\\n",
    "        .saveAsTable(\"perf_difference\")\n",
    "spark.sql(\"select * from perf_difference\").show()"
   ]
  },
  {
   "cell_type": "code",
   "execution_count": null,
   "id": "d529524f",
   "metadata": {},
   "outputs": [],
   "source": [
    "#creating hive table from dataframe\n",
    "yellow_taxi_2023.write\\\n",
    "        .option(\"path\", \"s3://ngap--fin-plng-and-perf-mgmt--prod--us-west-2/dev/raw/internal-order/changes/playbook_files/taxi_trips\")\\\n",
    "        .saveAsTable(\"yellow_taxi_tripss\")\n",
    "spark.sql(\"select * from yellow_taxi_tripss\").show()\n",
    "taxi_lookup.write\\\n",
    "        .option(\"path\", \"s3://ngap--fin-plng-and-perf-mgmt--prod--us-west-2/dev/raw/internal-order/changes/playbook_files/taxi_lookup\")\\\n",
    "        .saveAsTable(\"taxilookupp\")\n",
    "spark.sql(\"select * from taxilookupp\").show()"
   ]
  },
  {
   "cell_type": "code",
   "execution_count": 10,
   "id": "7b2307d3",
   "metadata": {},
   "outputs": [
    {
     "name": "stdout",
     "output_type": "stream",
     "text": [
      "            spark_elapsed_time  hive_elapsed_time\n",
      "count                 2.854264             18.860\n",
      "average               2.491249              9.571\n",
      "sum                   6.933339             15.724\n",
      "comp_query            1.332717              8.953\n"
     ]
    },
    {
     "data": {
      "text/plain": [
       "<AxesSubplot:>"
      ]
     },
     "execution_count": 10,
     "metadata": {},
     "output_type": "execute_result"
    },
    {
     "data": {
      "image/png": "[encoded data removed]",
      "text/plain": [
       "<Figure size 432x288 with 1 Axes>"
      ]
     },
     "metadata": {
      "needs_background": "light"
     },
     "output_type": "display_data"
    }
   ],
   "source": [
    "import matplotlib.pyplot\n",
    "import pandas as pd\n",
    "\n",
    "df = pd.DataFrame({'spark_elapsed_time': [2.8542643, 2.4912488, 6.9333386,1.3327171],\n",
    "                   'hive_elapsed_time': [18.86, 9.571, 15.724,8.953]},\n",
    "                  index=['count', 'average', 'sum','comp_query'])\n",
    "  \n",
    "print(df)\n",
    "df.plot.bar()"
   ]
  }
 ],
 "metadata": {
  "kernelspec": {
   "display_name": "Python 3",
   "language": "python",
   "name": "python3"
  },
  "language_info": {
   "codemirror_mode": {
    "name": "ipython",
    "version": 3
   },
   "file_extension": ".py",
   "mimetype": "text/x-python",
   "name": "python",
   "nbconvert_exporter": "python",
   "pygments_lexer": "ipython3",
   "version": "3.8.8"
  }
 },
 "nbformat": 4,
 "nbformat_minor": 5
}
