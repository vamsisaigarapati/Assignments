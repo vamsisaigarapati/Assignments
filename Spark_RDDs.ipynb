{
  "cells": [
    {
      "cell_type": "code",
      "source": [
        "pip install pyspark"
      ],
      "metadata": {
        "colab": {
          "base_uri": "https://localhost:8080/"
        },
        "id": "Ia_wE7JYHeOj",
        "outputId": "13d40a30-afe2-4a3e-a1ab-8877eb2e0159"
      },
      "execution_count": null,
      "outputs": [
        {
          "output_type": "stream",
          "name": "stdout",
          "text": [
            "Looking in indexes: https://pypi.org/simple, https://us-python.pkg.dev/colab-wheels/public/simple/\n",
            "Requirement already satisfied: pyspark in /usr/local/lib/python3.10/dist-packages (3.4.0)\n",
            "Requirement already satisfied: py4j==0.10.9.7 in /usr/local/lib/python3.10/dist-packages (from pyspark) (0.10.9.7)\n"
          ]
        }
      ]
    },
    {
      "cell_type": "code",
      "source": [
        "pip install findspark"
      ],
      "metadata": {
        "colab": {
          "base_uri": "https://localhost:8080/"
        },
        "id": "PMv6WG4yHoFE",
        "outputId": "8718b4fd-3b6e-4be0-c6f9-0e5ecddf9ea8"
      },
      "execution_count": null,
      "outputs": [
        {
          "output_type": "stream",
          "name": "stdout",
          "text": [
            "Looking in indexes: https://pypi.org/simple, https://us-python.pkg.dev/colab-wheels/public/simple/\n",
            "Requirement already satisfied: findspark in /usr/local/lib/python3.10/dist-packages (2.0.1)\n"
          ]
        }
      ]
    },
    {
      "cell_type": "code",
      "source": [
        "from google.colab import drive\n",
        "drive.mount('/content/drive')"
      ],
      "metadata": {
        "id": "HC_lxkKjHrAJ"
      },
      "execution_count": null,
      "outputs": []
    },
    {
      "cell_type": "code",
      "source": [
        "import findspark\n",
        "findspark.init()\n",
        "from pyspark.sql import SparkSession\n",
        "from pyspark import SparkContext, SparkConf\n",
        "\n",
        "\n",
        "conf = SparkConf().set('spark.ui.port', '4050')\n",
        "sc = SparkContext(conf=conf)\n",
        "spark = SparkSession.builder.master('local[*]').getOrCreate()"
      ],
      "metadata": {
        "id": "3tB3rhZZH6_q"
      },
      "execution_count": null,
      "outputs": []
    },
    {
      "cell_type": "markdown",
      "source": [
        "## Loading CSV files into **RDD**"
      ],
      "metadata": {
        "id": "KNiMArizy2pa"
      }
    },
    {
      "cell_type": "code",
      "source": [
        "IMDB_movies_df=spark.read.option(\"header\",True) \\\n",
        "     .csv(\"/content/contentdrive/MyDrive/data_for_assignment/IMDb movies.csv\")"
      ],
      "metadata": {
        "id": "Caauhw7chJJC"
      },
      "execution_count": null,
      "outputs": []
    },
    {
      "cell_type": "code",
      "source": [
        "IMDB_movies_df.columns"
      ],
      "metadata": {
        "id": "urGFnT-3icb8",
        "outputId": "72e77206-b943-4556-adf3-027da04a81ac",
        "colab": {
          "base_uri": "https://localhost:8080/"
        }
      },
      "execution_count": null,
      "outputs": [
        {
          "output_type": "execute_result",
          "data": {
            "text/plain": [
              "['imdb_title_id',\n",
              " 'title',\n",
              " 'original_title',\n",
              " 'year',\n",
              " 'date_published',\n",
              " 'genre',\n",
              " 'duration',\n",
              " 'country',\n",
              " 'language',\n",
              " 'director',\n",
              " 'writer',\n",
              " 'production_company',\n",
              " 'actors',\n",
              " 'description',\n",
              " 'avg_vote',\n",
              " 'votes',\n",
              " 'budget',\n",
              " 'usa_gross_income',\n",
              " 'worlwide_gross_income',\n",
              " 'metascore',\n",
              " 'reviews_from_users',\n",
              " 'reviews_from_critics']"
            ]
          },
          "metadata": {},
          "execution_count": 65
        }
      ]
    },
    {
      "cell_type": "code",
      "source": [
        "from pyspark.sql.functions import regexp_replace\n",
        "IMDB_movies_df_cleansed=IMDB_movies_df.select(  regexp_replace('imdb_title_id',',','-').alias('imdb_title_id'),\n",
        " regexp_replace('title',',','-').alias( 'title'),\n",
        " regexp_replace('original_title',',','-').alias( 'original_title'),\n",
        " regexp_replace('year',',','-').alias( 'year'),\n",
        " regexp_replace('date_published',',','-').alias( 'date_published'),\n",
        " regexp_replace('genre',',','-').alias( 'genre'),\n",
        " regexp_replace('duration',',','-').alias( 'duration'),\n",
        " regexp_replace('country',',','-').alias( 'country'),\n",
        " regexp_replace('language',',','-').alias( 'language'),\n",
        " regexp_replace('director',',','-').alias( 'director'),\n",
        " regexp_replace('writer',',','-').alias( 'writer'),\n",
        " regexp_replace('production_company',',','-').alias( 'production_company'),\n",
        " regexp_replace('actors',',','-').alias( 'actors'),\n",
        " regexp_replace('description',',','-').alias( 'description'),\n",
        " regexp_replace('avg_vote',',','-').alias( 'avg_vote'),\n",
        " regexp_replace('votes',',','-').alias( 'votes'),\n",
        " regexp_replace('budget',',','-').alias( 'budget'),\n",
        " regexp_replace('usa_gross_income',',','-').alias( 'usa_gross_income'),\n",
        " regexp_replace('worlwide_gross_income',',','-').alias( 'worlwide_gross_income'),\n",
        " regexp_replace('metascore',',','-').alias( 'metascore'),\n",
        " regexp_replace('reviews_from_users',',','-').alias( 'reviews_from_users'),\n",
        " regexp_replace('reviews_from_critics',',','-').alias('reviews_from_critics'))"
      ],
      "metadata": {
        "id": "-SRtNDf0inxH"
      },
      "execution_count": null,
      "outputs": []
    },
    {
      "cell_type": "code",
      "source": [
        "IMDB_movies_df_cleansed.show()"
      ],
      "metadata": {
        "id": "bRcI7yLgmO13",
        "outputId": "e1fa416a-2c6c-48ad-a3a5-104f63a35348",
        "colab": {
          "base_uri": "https://localhost:8080/"
        }
      },
      "execution_count": null,
      "outputs": [
        {
          "output_type": "stream",
          "name": "stdout",
          "text": [
            "+-------------+--------------------+--------------------+----+--------------+--------------------+--------+----------------+---------------+--------------------+--------------------+--------------------+--------------------+--------------------+--------+-----+----------+----------------+---------------------+---------+------------------+--------------------+\n",
            "|imdb_title_id|               title|      original_title|year|date_published|               genre|duration|         country|       language|            director|              writer|  production_company|              actors|         description|avg_vote|votes|    budget|usa_gross_income|worlwide_gross_income|metascore|reviews_from_users|reviews_from_critics|\n",
            "+-------------+--------------------+--------------------+----+--------------+--------------------+--------+----------------+---------------+--------------------+--------------------+--------------------+--------------------+--------------------+--------+-----+----------+----------------+---------------------+---------+------------------+--------------------+\n",
            "|    tt0000009|          Miss Jerry|          Miss Jerry|1894|    1894-10-09|             Romance|      45|             USA|           None|     Alexander Black|     Alexander Black|Alexander Black P...|Blanche Bayliss- ...|The adventures of...|     5.9|  154|      null|            null|                 null|     null|               1.0|                 2.0|\n",
            "|    tt0000574|The Story of the ...|The Story of the ...|1906|    1906-12-26|Biography- Crime-...|      70|       Australia|           None|        Charles Tait|        Charles Tait|      J. and N. Tait|Elizabeth Tait- J...|True story of not...|     6.1|  589|    $ 2250|            null|                 null|     null|               7.0|                 7.0|\n",
            "|    tt0001892|      Den sorte drøm|      Den sorte drøm|1911|    1911-08-19|               Drama|      53|Germany- Denmark|           null|           Urban Gad|Urban Gad- Gebhar...|            Fotorama|Asta Nielsen- Val...|Two men of high r...|     5.8|  188|      null|            null|                 null|     null|               5.0|                 2.0|\n",
            "|    tt0002101|           Cleopatra|           Cleopatra|1912|    1912-11-13|      Drama- History|     100|             USA|        English|  Charles L. Gaskill|    Victorien Sardou|Helen Gardner Pic...|Helen Gardner- Pe...|The fabled queen ...|     5.2|  446|   $ 45000|            null|                 null|     null|              25.0|                 3.0|\n",
            "|    tt0002130|           L'Inferno|           L'Inferno|1911|    1911-03-06|Adventure- Drama-...|      68|           Italy|        Italian|Francesco Bertoli...|     Dante Alighieri|         Milano Film|Salvatore Papa- A...|Loosely adapted f...|     7.0| 2237|      null|            null|                 null|     null|              31.0|                14.0|\n",
            "|    tt0002199|From the Manger t...|From the Manger t...|1912|          1913|    Biography- Drama|      60|             USA|        English|       Sidney Olcott|       Gene Gauntier|       Kalem Company|R. Henderson Blan...|An account of the...|     5.7|  484|      null|            null|                 null|     null|              13.0|                 5.0|\n",
            "|    tt0002423|      Madame DuBarry|      Madame DuBarry|1919|    1919-11-26|Biography- Drama-...|      85|         Germany|         German|      Ernst Lubitsch|Norbert Falk- Han...|Projektions-AG Un...|Pola Negri- Emil ...|The story of Mada...|     6.8|  753|      null|            null|                 null|     null|              12.0|                 9.0|\n",
            "|    tt0002445|          Quo Vadis?|          Quo Vadis?|1913|    1913-03-01|      Drama- History|     120|           Italy|        Italian|     Enrico Guazzoni|Henryk Sienkiewic...|Società Italiana ...|Amleto Novelli- G...|\"An epic Italian ...|     6.2|  273| ITL 45000|            null|                 null|     null|               7.0|                 5.0|\n",
            "|    tt0002452|Independenta Roma...|Independenta Roma...|1912|    1912-09-01|        History- War|     120|         Romania|           null|Aristide Demetria...|Aristide Demetria...|Societatea Filmul...|Aristide Demetria...|The movie depicts...|     6.7|  198|ROL 400000|            null|                 null|     null|               4.0|                 1.0|\n",
            "|    tt0002461|         Richard III|         Richard III|1912|    1912-10-15|               Drama|      55|     France- USA|        English|André Calmettes- ...|James Keane- Will...|       Le Film d'Art|Robert Gemp- Fred...|Richard of Glouce...|     5.5|  225|   $ 30000|            null|                 null|     null|               8.0|                 1.0|\n",
            "|    tt0002646|            Atlantis|            Atlantis|1913|    1913-12-26|               Drama|     121|         Denmark|         Danish|         August Blom|Axel Garde- Gerha...|        Nordisk Film|Olaf Fønss- Ida O...|After Dr. Friedri...|     6.6|  331|      null|            null|                 null|     null|               9.0|                 9.0|\n",
            "|    tt0002844|Fantômas - À l'om...|Fantômas - À l'om...|1913|    1913-05-12|        Crime- Drama|      54|          France|         French|     Louis Feuillade|Marcel Allain- Lo...|Société des Etabl...|René Navarre- Edm...|Inspector Juve is...|     7.0| 1944|      null|            null|                 null|     null|               9.0|                28.0|\n",
            "|    tt0003014|Il calvario di un...|       Ingeborg Holm|1913|    1915-10-18|               Drama|      96|          Sweden|           null|     Victor Sjöström|           Nils Krok|Svenska Biografte...|Hilda Borgström- ...|Single mother is ...|     7.1|  948|      null|            null|                 null|     null|              16.0|                 7.0|\n",
            "|    tt0003037|Juve contre Fantômas|Juve contre Fantômas|1913|    1913-09-08|        Crime- Drama|      61|          France|         French|     Louis Feuillade|Marcel Allain- Lo...|Société des Etabl...|René Navarre- Edm...|In Part Two of Lo...|     7.0| 1349|      null|            null|                 null|     null|               8.0|                23.0|\n",
            "|    tt0003102|Ma l'amor mio non...|Ma l'amor mio non...|1914|    1914-01-01|               Drama|      90|           Italy|        Italian|      Mario Caserini|Emiliano Bonetti-...|Film Artistica Gl...|Lyda Borelli- Mar...|Leslie Swayne- an...|     6.2|  100|      null|            null|                 null|     null|              null|                 4.0|\n",
            "|    tt0003131|Maudite soit la g...|Maudite soit la g...|1914|    1914-05-01|          Drama- War|      50|         Belgium|         French|       Alfred Machin|       Alfred Machin|   Belge Cinéma Film|Baert- Suzanne Be...|An army pilot is ...|     6.5|  124|      null|            null|                 null|     null|               2.0|                 2.0|\n",
            "|    tt0003165|     Le mort qui tue|     Le mort qui tue|1913|    1913-11-06|Crime- Drama- Mys...|      90|          France|         French|     Louis Feuillade|Marcel Allain- Lo...|Société des Etabl...|René Navarre- Edm...|After a body disa...|     7.0| 1050|      null|            null|                 null|     null|               6.0|                18.0|\n",
            "|    tt0003167|      Amore di madre|    Home- Sweet Home|1914|    1914-05-17|               Drama|      55|             USA|        English|       D.W. Griffith|D.W. Griffith- H....|Majestic Motion P...|Henry B. Walthall...|John Howard Payne...|     5.8|  187|      null|            null|                 null|     null|               6.0|                null|\n",
            "|    tt0003419|Lo studente di Praga|Der Student von Prag|1913|    1913-08-22|Drama- Fantasy- H...|      85|         Germany|German- English|Paul Wegener- Ste...|Hanns Heinz Ewers...|Deutsche Bioscop ...|Paul Wegener- Gre...|Balduin- a studen...|     6.5| 1768|      null|            null|                 null|     null|              20.0|                26.0|\n",
            "|    tt0003471|    Traffic in Souls|    Traffic in Souls|1913|    1913-11-24|        Crime- Drama|      88|             USA|        English| George Loane Tucker|                null|Independent Movin...|Jane Gail- Ethel ...|A woman- with the...|     6.0|  552|    $ 5700|            null|                 null|     null|              14.0|                11.0|\n",
            "+-------------+--------------------+--------------------+----+--------------+--------------------+--------+----------------+---------------+--------------------+--------------------+--------------------+--------------------+--------------------+--------+-----+----------+----------------+---------------------+---------+------------------+--------------------+\n",
            "only showing top 20 rows\n",
            "\n"
          ]
        }
      ]
    },
    {
      "cell_type": "code",
      "source": [
        "#creating rdds from df\n",
        "IMDB_movies=IMDB_movies_df_cleansed.rdd"
      ],
      "metadata": {
        "id": "j4KoaHvjl588"
      },
      "execution_count": null,
      "outputs": []
    },
    {
      "cell_type": "code",
      "source": [
        "type(IMDB_movies)"
      ],
      "metadata": {
        "id": "VUCqUlVwmC08",
        "outputId": "3d986802-84de-4951-d3cb-de60cee5d038",
        "colab": {
          "base_uri": "https://localhost:8080/"
        }
      },
      "execution_count": null,
      "outputs": [
        {
          "output_type": "execute_result",
          "data": {
            "text/plain": [
              "pyspark.rdd.RDD"
            ]
          },
          "metadata": {},
          "execution_count": 84
        }
      ]
    },
    {
      "cell_type": "code",
      "source": [
        "#caching in memory using cache method for future use\n",
        "IMDB_movies.cache()"
      ],
      "metadata": {
        "id": "fPFxqmmaXKnr",
        "outputId": "29213657-c4c3-4679-b218-9481833929a4",
        "colab": {
          "base_uri": "https://localhost:8080/"
        }
      },
      "execution_count": null,
      "outputs": [
        {
          "output_type": "execute_result",
          "data": {
            "text/plain": [
              "MapPartitionsRDD[54] at javaToPython at NativeMethodAccessorImpl.java:0"
            ]
          },
          "metadata": {},
          "execution_count": 154
        }
      ]
    },
    {
      "cell_type": "code",
      "source": [
        "IMDB_ratings=sc.textFile('/content/contentdrive/MyDrive/data_for_assignment/IMDb ratings.csv')\n",
        "type(IMDB_ratings)"
      ],
      "metadata": {
        "colab": {
          "base_uri": "https://localhost:8080/"
        },
        "id": "4EE-WhVsInqB",
        "outputId": "5a9c814b-dc0c-4e65-d7cc-69260b60022b"
      },
      "execution_count": null,
      "outputs": [
        {
          "output_type": "execute_result",
          "data": {
            "text/plain": [
              "pyspark.rdd.RDD"
            ]
          },
          "metadata": {},
          "execution_count": 41
        }
      ]
    },
    {
      "cell_type": "code",
      "source": [
        "#caching in memory using cache method for future use\n",
        "IMDB_ratings.cache()"
      ],
      "metadata": {
        "id": "7nWcKIEtXTVG",
        "outputId": "c7fe38f3-4d3c-4b24-a6f4-85db79bab7cd",
        "colab": {
          "base_uri": "https://localhost:8080/"
        }
      },
      "execution_count": null,
      "outputs": [
        {
          "output_type": "execute_result",
          "data": {
            "text/plain": [
              "/content/contentdrive/MyDrive/data_for_assignment/IMDb ratings.csv MapPartitionsRDD[5] at textFile at NativeMethodAccessorImpl.java:0"
            ]
          },
          "metadata": {},
          "execution_count": 155
        }
      ]
    },
    {
      "cell_type": "markdown",
      "source": [
        "# 1)\tBrief the column information provided in each datasets"
      ],
      "metadata": {
        "id": "yUOrtJJNzBuO"
      }
    },
    {
      "cell_type": "code",
      "source": [
        "for i in IMDB_movies.take(1):\n",
        "  for j in i.asDict().keys():\n",
        "    print(j)\n",
        "  break"
      ],
      "metadata": {
        "id": "z2sLYiS4xvs0",
        "outputId": "85640389-397e-423d-e45d-8b30f91ac109",
        "colab": {
          "base_uri": "https://localhost:8080/"
        }
      },
      "execution_count": null,
      "outputs": [
        {
          "output_type": "stream",
          "name": "stdout",
          "text": [
            "imdb_title_id\n",
            "title\n",
            "original_title\n",
            "year\n",
            "date_published\n",
            "genre\n",
            "duration\n",
            "country\n",
            "language\n",
            "director\n",
            "writer\n",
            "production_company\n",
            "actors\n",
            "description\n",
            "avg_vote\n",
            "votes\n",
            "budget\n",
            "usa_gross_income\n",
            "worlwide_gross_income\n",
            "metascore\n",
            "reviews_from_users\n",
            "reviews_from_critics\n"
          ]
        }
      ]
    },
    {
      "cell_type": "code",
      "source": [
        "ratings_header=IMDB_ratings.first()\n",
        "ratings_header_list=ratings_header.split(',')\n",
        "for i  in ratings_header_list:\n",
        "  print(i)"
      ],
      "metadata": {
        "id": "QXOeE2NNWMtT",
        "outputId": "d29c8ce9-91ed-4b91-cc1c-b7ab63099611",
        "colab": {
          "base_uri": "https://localhost:8080/"
        }
      },
      "execution_count": null,
      "outputs": [
        {
          "output_type": "stream",
          "name": "stdout",
          "text": [
            "imdb_title_id\n",
            "weighted_average_vote\n",
            "total_votes\n",
            "mean_vote\n",
            "median_vote\n",
            "votes_10\n",
            "votes_9\n",
            "votes_8\n",
            "votes_7\n",
            "votes_6\n",
            "votes_5\n",
            "votes_4\n",
            "votes_3\n",
            "votes_2\n",
            "votes_1\n",
            "allgenders_0age_avg_vote\n",
            "allgenders_0age_votes\n",
            "allgenders_18age_avg_vote\n",
            "allgenders_18age_votes\n",
            "allgenders_30age_avg_vote\n",
            "allgenders_30age_votes\n",
            "allgenders_45age_avg_vote\n",
            "allgenders_45age_votes\n",
            "males_allages_avg_vote\n",
            "males_allages_votes\n",
            "males_0age_avg_vote\n",
            "males_0age_votes\n",
            "males_18age_avg_vote\n",
            "males_18age_votes\n",
            "males_30age_avg_vote\n",
            "males_30age_votes\n",
            "males_45age_avg_vote\n",
            "males_45age_votes\n",
            "females_allages_avg_vote\n",
            "females_allages_votes\n",
            "females_0age_avg_vote\n",
            "females_0age_votes\n",
            "females_18age_avg_vote\n",
            "females_18age_votes\n",
            "females_30age_avg_vote\n",
            "females_30age_votes\n",
            "females_45age_avg_vote\n",
            "females_45age_votes\n",
            "top1000_voters_rating\n",
            "top1000_voters_votes\n",
            "us_voters_rating\n",
            "us_voters_votes\n",
            "non_us_voters_rating\n",
            "non_us_voters_votes\n"
          ]
        }
      ]
    },
    {
      "cell_type": "markdown",
      "source": [
        "# 2)\tGive the distinct languages in which the movies were listed in IMDB"
      ],
      "metadata": {
        "id": "rYk9HtBn3NS-"
      }
    },
    {
      "cell_type": "code",
      "source": [
        "IMDB_movies.map(lambda rec:rec.year).distinct().collect()"
      ],
      "metadata": {
        "id": "TyjBB1t_gOSN",
        "outputId": "35d6fc59-9176-4933-e7c6-5d7ecb8783da",
        "colab": {
          "base_uri": "https://localhost:8080/"
        }
      },
      "execution_count": null,
      "outputs": [
        {
          "output_type": "execute_result",
          "data": {
            "text/plain": [
              "['1894',\n",
              " '1906',\n",
              " '1911',\n",
              " '1912',\n",
              " '1919',\n",
              " '1913',\n",
              " '1914',\n",
              " '1915',\n",
              " '1916',\n",
              " '1917',\n",
              " '1918',\n",
              " '1920',\n",
              " '1921',\n",
              " '1924',\n",
              " '1922',\n",
              " '1923',\n",
              " '1925',\n",
              " '1926',\n",
              " '1935',\n",
              " '1927',\n",
              " '1928',\n",
              " '1983',\n",
              " '1929',\n",
              " '1930',\n",
              " '1932',\n",
              " '1931',\n",
              " '1937',\n",
              " '1938',\n",
              " '1933',\n",
              " '1934',\n",
              " '1936',\n",
              " '1940',\n",
              " '1939',\n",
              " '1942',\n",
              " '1943',\n",
              " '1941',\n",
              " '1948',\n",
              " '1944',\n",
              " '2001',\n",
              " '1946',\n",
              " '1945',\n",
              " '1947',\n",
              " '1973',\n",
              " '1949',\n",
              " '1950',\n",
              " '1952',\n",
              " '1951',\n",
              " '1962',\n",
              " '1953',\n",
              " '1954',\n",
              " '1955',\n",
              " '1961',\n",
              " '1956',\n",
              " '1958',\n",
              " '1957',\n",
              " '1959',\n",
              " '1960',\n",
              " '1963',\n",
              " '1965',\n",
              " '1971',\n",
              " '1964',\n",
              " '1966',\n",
              " '1968',\n",
              " '1967',\n",
              " '1969',\n",
              " '1976',\n",
              " '1970',\n",
              " '1979',\n",
              " '1972',\n",
              " '1981',\n",
              " '1978',\n",
              " '2000',\n",
              " '1989',\n",
              " '1975',\n",
              " '1974',\n",
              " '1986',\n",
              " '1990',\n",
              " '2018',\n",
              " '1977',\n",
              " '1982',\n",
              " '1980',\n",
              " '1993',\n",
              " '1984',\n",
              " '1985',\n",
              " '1988',\n",
              " '1987',\n",
              " '2005',\n",
              " '1991',\n",
              " '2002',\n",
              " '1994',\n",
              " '1992',\n",
              " '1995',\n",
              " '2017',\n",
              " '1997',\n",
              " '1996',\n",
              " '2006',\n",
              " '1999',\n",
              " '1998',\n",
              " '2007',\n",
              " '2008',\n",
              " '2003',\n",
              " '2004',\n",
              " '2010',\n",
              " '2009',\n",
              " '2011',\n",
              " '2013',\n",
              " '2012',\n",
              " '2016',\n",
              " '2015',\n",
              " '2014',\n",
              " '2019',\n",
              " '2020',\n",
              " 'TV Movie 2019']"
            ]
          },
          "metadata": {},
          "execution_count": 111
        }
      ]
    },
    {
      "cell_type": "markdown",
      "source": [
        "# 3)\tGive the number of movies which were not released in English"
      ],
      "metadata": {
        "id": "KSsJqsh2_IDa"
      }
    },
    {
      "cell_type": "code",
      "source": [
        "movies_lang=IMDB_movies.map(lambda rec: str(rec.language).upper())"
      ],
      "metadata": {
        "id": "YiAxHV8McmbE"
      },
      "execution_count": null,
      "outputs": []
    },
    {
      "cell_type": "code",
      "source": [
        "movies_lang.take(3)"
      ],
      "metadata": {
        "id": "pm9doBAL_BAz",
        "outputId": "ac1837b1-6563-44ab-c4d5-8fa13abc7624",
        "colab": {
          "base_uri": "https://localhost:8080/"
        }
      },
      "execution_count": null,
      "outputs": [
        {
          "output_type": "execute_result",
          "data": {
            "text/plain": [
              "['NONE', 'NONE', 'NONE']"
            ]
          },
          "metadata": {},
          "execution_count": 121
        }
      ]
    },
    {
      "cell_type": "code",
      "source": [
        "sc.setCheckpointDir('/content/contentdrive/MyDrive/data_for_assignment')\n",
        "movies_lang.checkpoint()"
      ],
      "metadata": {
        "id": "NrzyP-rxX9Xi"
      },
      "execution_count": null,
      "outputs": []
    },
    {
      "cell_type": "code",
      "source": [
        "movies_lang.filter(lambda lang: 'ENGLISH' not in lang).count()"
      ],
      "metadata": {
        "id": "L-ZtR8OH_NI2",
        "outputId": "9719137a-e1bc-4ee6-e169-65b77592fd7f",
        "colab": {
          "base_uri": "https://localhost:8080/"
        }
      },
      "execution_count": null,
      "outputs": [
        {
          "output_type": "execute_result",
          "data": {
            "text/plain": [
              "38409"
            ]
          },
          "metadata": {},
          "execution_count": 199
        }
      ]
    },
    {
      "cell_type": "markdown",
      "source": [
        "# 4)\tGive the unique no of languages in which the films are being released"
      ],
      "metadata": {
        "id": "kgCTrbukDuNQ"
      }
    },
    {
      "cell_type": "code",
      "source": [
        "lang_flat=movies_lang.flatMap(lambda lang:lang.split('-'))\n",
        "lang_flat.take(3)"
      ],
      "metadata": {
        "colab": {
          "base_uri": "https://localhost:8080/"
        },
        "id": "1GIHJ1CsB9XP",
        "outputId": "a1850516-8de9-44fd-e3b3-0675f069fad0"
      },
      "execution_count": null,
      "outputs": [
        {
          "output_type": "execute_result",
          "data": {
            "text/plain": [
              "['NONE', 'NONE', 'NONE']"
            ]
          },
          "metadata": {},
          "execution_count": 124
        }
      ]
    },
    {
      "cell_type": "code",
      "source": [
        "lang_flat.map(lambda rec:rec.strip()).distinct().take(10)"
      ],
      "metadata": {
        "id": "0pf31pqKDD3L",
        "outputId": "70b1397f-230f-4693-ef27-bec8a3d5dfd1",
        "colab": {
          "base_uri": "https://localhost:8080/"
        }
      },
      "execution_count": null,
      "outputs": [
        {
          "output_type": "execute_result",
          "data": {
            "text/plain": [
              "['NONE',\n",
              " 'ENGLISH',\n",
              " 'ITALIAN',\n",
              " 'GERMAN',\n",
              " 'DANISH',\n",
              " 'FRENCH',\n",
              " 'HUNGARIAN',\n",
              " 'RUSSIAN',\n",
              " 'SPANISH',\n",
              " 'DUTCH']"
            ]
          },
          "metadata": {},
          "execution_count": 127
        }
      ]
    },
    {
      "cell_type": "code",
      "source": [
        "lang_flat.map(lambda rec:rec.strip()).distinct().count()"
      ],
      "metadata": {
        "id": "RSOCJGtTDoxK",
        "outputId": "978c908c-ec90-4d28-9e5a-4d8d893f6b3d",
        "colab": {
          "base_uri": "https://localhost:8080/"
        }
      },
      "execution_count": null,
      "outputs": [
        {
          "output_type": "execute_result",
          "data": {
            "text/plain": [
              "269"
            ]
          },
          "metadata": {},
          "execution_count": 128
        }
      ]
    },
    {
      "cell_type": "markdown",
      "source": [
        "# 5)\tName the top 5 lengthiest and 5 shortest movies along with duration from the list registered in IMDB"
      ],
      "metadata": {
        "id": "d4mx8Uj5H1M7"
      }
    },
    {
      "cell_type": "code",
      "source": [
        "duration_rdd_desc=IMDB_movies.sortBy(lambda rec: int(rec.duration)*-1)\n",
        "duration_rdd_asc=IMDB_movies.sortBy(lambda rec: int(rec.duration))"
      ],
      "metadata": {
        "id": "C2TNxO0qFojq"
      },
      "execution_count": null,
      "outputs": []
    },
    {
      "cell_type": "code",
      "source": [
        "duration_rdd_desc.map(lambda rec: (rec.title,rec.duration)).take(5)"
      ],
      "metadata": {
        "colab": {
          "base_uri": "https://localhost:8080/"
        },
        "id": "GyJmv_dMGaxG",
        "outputId": "572f0dae-6deb-4653-d117-0e4931ad25cf"
      },
      "execution_count": null,
      "outputs": [
        {
          "output_type": "execute_result",
          "data": {
            "text/plain": [
              "[('La flor', '808'),\n",
              " ('Out 1- noli me tangere', '729'),\n",
              " ('Khleb - imya sushchestvitelnoe', '580'),\n",
              " ('Orbius', '570'),\n",
              " ('Ebolusyon ng isang pamilyang Pilipino', '540')]"
            ]
          },
          "metadata": {},
          "execution_count": 142
        }
      ]
    },
    {
      "cell_type": "code",
      "source": [
        "duration_rdd_asc.map(lambda rec: (rec.title,rec.duration)).take(5)"
      ],
      "metadata": {
        "id": "WiU9XH1jG2CP",
        "outputId": "6fa915c8-cb0f-4311-a86e-b9c495511eef",
        "colab": {
          "base_uri": "https://localhost:8080/"
        }
      },
      "execution_count": null,
      "outputs": [
        {
          "output_type": "execute_result",
          "data": {
            "text/plain": [
              "[('Dragon Ball Z: La vendetta divina', '41'),\n",
              " ('Enigma', '42'),\n",
              " ('Niagara Falls', '43'),\n",
              " ('My Little Pony: Equestria Girls - Holidays Unwrapped', '44'),\n",
              " ('Miss Jerry', '45')]"
            ]
          },
          "metadata": {},
          "execution_count": 140
        }
      ]
    },
    {
      "cell_type": "code",
      "source": [
        "'4.5'.isdigit()"
      ],
      "metadata": {
        "id": "Ie3KcZcmNr8g",
        "outputId": "743ecb43-d73d-42f3-b194-92b91bb01185",
        "colab": {
          "base_uri": "https://localhost:8080/"
        }
      },
      "execution_count": null,
      "outputs": [
        {
          "output_type": "execute_result",
          "data": {
            "text/plain": [
              "False"
            ]
          },
          "metadata": {},
          "execution_count": 145
        }
      ]
    },
    {
      "cell_type": "markdown",
      "source": [
        "# 6) Get top 5 films for which the avg_vote is equal to average of all available ratings of all movies"
      ],
      "metadata": {
        "id": "dWbbAUrNQYdZ"
      }
    },
    {
      "cell_type": "code",
      "source": [
        "vote_rdd=IMDB_movies.map(lambda rec: rec.avg_vote).\\\n",
        "    filter(lambda rec:rec.replace('.','').isdigit()) # replace is used sing the values are in floats\n",
        "sum_avg_vote=vote_rdd.reduce(lambda x,y: float(x)+float(y))\n",
        "avg_votes=round(sum_avg_vote/vote_rdd.count(),1)\n",
        "print(avg_votes)\n",
        "avg_rated_movies=IMDB_movies.map(lambda rec: (rec.title,rec.avg_vote)).\\\n",
        "    filter(lambda rec: str(avg_votes) in rec[1])\n",
        "avg_rated_movies.take(5)"
      ],
      "metadata": {
        "id": "n9Zlwu2dMxnR",
        "outputId": "c2aed24e-6004-486a-f31e-61e2791553fa",
        "colab": {
          "base_uri": "https://localhost:8080/"
        }
      },
      "execution_count": null,
      "outputs": [
        {
          "output_type": "stream",
          "name": "stdout",
          "text": [
            "5.9\n"
          ]
        },
        {
          "output_type": "execute_result",
          "data": {
            "text/plain": [
              "[('Miss Jerry', '5.9'),\n",
              " ('Maciste', '5.9'),\n",
              " ('Young Romance', '5.9'),\n",
              " ('His Picture in the Papers', '5.9'),\n",
              " (\"'49-'17\", '5.9')]"
            ]
          },
          "metadata": {},
          "execution_count": 159
        }
      ]
    },
    {
      "cell_type": "markdown",
      "source": [
        "# 7)\tNeed the list of all movies which contains the average vote calculated above and  write the result into a textfile"
      ],
      "metadata": {
        "id": "_hPp_GMRUcLw"
      }
    },
    {
      "cell_type": "code",
      "source": [
        "avg_rated_movies.saveAsTextFile('/content/contentdrive/MyDrive/avg_rated_movies.txt')"
      ],
      "metadata": {
        "id": "61v-KIgMTsRz"
      },
      "execution_count": null,
      "outputs": []
    },
    {
      "cell_type": "markdown",
      "source": [
        "# 8)\tTake a sample partition of approximately 1000 rows and get average no of votes casted for that sample"
      ],
      "metadata": {
        "id": "iNGkFrUiiaWQ"
      }
    },
    {
      "cell_type": "code",
      "source": [
        "IMDB_movies.count()"
      ],
      "metadata": {
        "id": "11sgb7B7iFY6",
        "outputId": "fd3f61f8-d5e0-45d4-ff2a-d232e621a25a",
        "colab": {
          "base_uri": "https://localhost:8080/"
        }
      },
      "execution_count": null,
      "outputs": [
        {
          "output_type": "execute_result",
          "data": {
            "text/plain": [
              "85855"
            ]
          },
          "metadata": {},
          "execution_count": 186
        }
      ]
    },
    {
      "cell_type": "code",
      "source": [
        "IMDB_movies_part=IMDB_movies.repartition(85)"
      ],
      "metadata": {
        "id": "9iUdO4WudYk3"
      },
      "execution_count": null,
      "outputs": []
    },
    {
      "cell_type": "code",
      "source": [
        "IMDB_movies_part.getNumPartitions()"
      ],
      "metadata": {
        "id": "ikL2Yev5dsgk",
        "outputId": "386366c8-e8d1-42db-e48d-7352f58964da",
        "colab": {
          "base_uri": "https://localhost:8080/"
        }
      },
      "execution_count": null,
      "outputs": [
        {
          "output_type": "execute_result",
          "data": {
            "text/plain": [
              "85"
            ]
          },
          "metadata": {},
          "execution_count": 165
        }
      ]
    },
    {
      "cell_type": "code",
      "source": [
        "for i in IMDB_movies_part.glom().take(1):\n",
        "  cnt=0\n",
        "  for j in i:\n",
        "    cnt=cnt+int(j.votes) if j.votes.isdigit() else 0\n",
        "print(round(cnt/len(i)))"
      ],
      "metadata": {
        "id": "E6HDyPryeApz",
        "outputId": "0d796a23-8677-4152-e3e6-d7bca759d8fd",
        "colab": {
          "base_uri": "https://localhost:8080/"
        }
      },
      "execution_count": null,
      "outputs": [
        {
          "output_type": "stream",
          "name": "stdout",
          "text": [
            "34\n"
          ]
        }
      ]
    },
    {
      "cell_type": "markdown",
      "source": [
        "# 9)\tCalculate all the average of men_avg_vote for every distinct  year released movies in the list"
      ],
      "metadata": {
        "id": "1KvFPX3J3ilj"
      }
    },
    {
      "cell_type": "code",
      "source": [
        "IMDB_ratings_woh=IMDB_ratings.filter(lambda x: x!= ratings_header).\\\n",
        "  map(lambda rec:(rec.split(',')[0],rec.split(',')[23]))#23 is the index fora all_men_avg_vote"
      ],
      "metadata": {
        "id": "0TtJmkHupOPW"
      },
      "execution_count": null,
      "outputs": []
    },
    {
      "cell_type": "code",
      "source": [
        "IMDB_ratings_woh.take(3)"
      ],
      "metadata": {
        "id": "c2KIhGWotVM5",
        "outputId": "bf0a1677-fc7c-4a52-8230-fcc034d18189",
        "colab": {
          "base_uri": "https://localhost:8080/"
        }
      },
      "execution_count": null,
      "outputs": [
        {
          "output_type": "execute_result",
          "data": {
            "text/plain": [
              "[('tt0000009', '6.2'), ('tt0000574', '6.1'), ('tt0001892', '5.9')]"
            ]
          },
          "metadata": {},
          "execution_count": 212
        }
      ]
    },
    {
      "cell_type": "code",
      "source": [
        "movies_year=IMDB_movies.map(lambda rec: (rec.imdb_title_id,rec.year))"
      ],
      "metadata": {
        "id": "kDIO3iU9u6jx"
      },
      "execution_count": null,
      "outputs": []
    },
    {
      "cell_type": "code",
      "source": [
        "movies_year.take(2)"
      ],
      "metadata": {
        "id": "Z81JVcvLvW9c",
        "outputId": "30b82e0e-bb99-4788-889a-f4ae4dc49aaf",
        "colab": {
          "base_uri": "https://localhost:8080/"
        }
      },
      "execution_count": null,
      "outputs": [
        {
          "output_type": "execute_result",
          "data": {
            "text/plain": [
              "[('tt0000009', '1894'), ('tt0000574', '1906')]"
            ]
          },
          "metadata": {},
          "execution_count": 214
        }
      ]
    },
    {
      "cell_type": "code",
      "source": [
        "movies_year.join(IMDB_ratings_woh).take(2)"
      ],
      "metadata": {
        "id": "v6WKVVTwvaCU",
        "outputId": "9f201ea1-c61a-455b-d7f5-cd0a2ee5ccfd",
        "colab": {
          "base_uri": "https://localhost:8080/"
        }
      },
      "execution_count": null,
      "outputs": [
        {
          "output_type": "execute_result",
          "data": {
            "text/plain": [
              "[('tt0000009', ('1894', '6.2')), ('tt0000574', ('1906', '6.1'))]"
            ]
          },
          "metadata": {},
          "execution_count": 230
        }
      ]
    },
    {
      "cell_type": "code",
      "source": [],
      "metadata": {
        "id": "k7-Q-Idgz1sT"
      },
      "execution_count": null,
      "outputs": []
    },
    {
      "cell_type": "code",
      "source": [
        "req_rdd=movies_year.join(IMDB_ratings_woh).map(lambda rec: rec[1]).\\\n",
        "    filter(lambda rec:rec[1].replace('.','').isdigit()).\\\n",
        "    map(lambda rec : (rec[0],float(rec[1])))\n",
        "req_rdd.count()"
      ],
      "metadata": {
        "id": "WglMezx4v0t6",
        "outputId": "a0bfa9fa-d66e-4394-dc4c-78b6f65f39b1",
        "colab": {
          "base_uri": "https://localhost:8080/"
        }
      },
      "execution_count": null,
      "outputs": [
        {
          "output_type": "execute_result",
          "data": {
            "text/plain": [
              "85854"
            ]
          },
          "metadata": {},
          "execution_count": 234
        }
      ]
    },
    {
      "cell_type": "code",
      "source": [
        "\n",
        "sample = (0,0)\n",
        "inter = req_rdd.aggregateByKey(sample, lambda a,b: (a[0] + b,    a[1] + 1),\n",
        "                                       lambda a,b: (a[0] + b[0], a[1] + b[1]))\n",
        "inter.take(2)\n"
      ],
      "metadata": {
        "id": "tnBCqUpCwkg0",
        "outputId": "dc2cbc15-8142-4eb3-ad51-0fd32d1c5535",
        "colab": {
          "base_uri": "https://localhost:8080/"
        }
      },
      "execution_count": null,
      "outputs": [
        {
          "output_type": "execute_result",
          "data": {
            "text/plain": [
              "[('1911', (30.9, 5)), ('1913', (84.20000000000002, 13))]"
            ]
          },
          "metadata": {},
          "execution_count": 242
        }
      ]
    },
    {
      "cell_type": "code",
      "source": [
        "inter.mapValues(lambda v: round(v[0]/v[1],1)).collect()"
      ],
      "metadata": {
        "id": "mZcJlJJpyt_z",
        "outputId": "06d08b59-0bee-4078-c2aa-9aa9fed0ecd6",
        "colab": {
          "base_uri": "https://localhost:8080/"
        }
      },
      "execution_count": null,
      "outputs": [
        {
          "output_type": "execute_result",
          "data": {
            "text/plain": [
              "[('1911', 6.2),\n",
              " ('1913', 6.5),\n",
              " ('1918', 6.2),\n",
              " ('1920', 6.2),\n",
              " ('1921', 6.6),\n",
              " ('1925', 6.6),\n",
              " ('1927', 6.6),\n",
              " ('1983', 6.0),\n",
              " ('1928', 6.8),\n",
              " ('1937', 6.4),\n",
              " ('1934', 6.2),\n",
              " ('1936', 6.3),\n",
              " ('1938', 6.3),\n",
              " ('1940', 6.4),\n",
              " ('1939', 6.5),\n",
              " ('1943', 6.4),\n",
              " ('1941', 6.4),\n",
              " ('1947', 6.5),\n",
              " ('1948', 6.5),\n",
              " ('1949', 6.5),\n",
              " ('1951', 6.4),\n",
              " ('1962', 6.4),\n",
              " ('1954', 6.3),\n",
              " ('1956', 6.3),\n",
              " ('1957', 6.3),\n",
              " ('1964', 6.3),\n",
              " ('1970', 6.1),\n",
              " ('1979', 6.0),\n",
              " ('1969', 6.1),\n",
              " ('1981', 6.1),\n",
              " ('1978', 6.1),\n",
              " ('1977', 6.1),\n",
              " ('1982', 6.0),\n",
              " ('1980', 6.0),\n",
              " ('1990', 5.9),\n",
              " ('1991', 5.9),\n",
              " ('2002', 5.8),\n",
              " ('1994', 5.8),\n",
              " ('1995', 5.8),\n",
              " ('1993', 5.9),\n",
              " ('2003', 5.7),\n",
              " ('2017', 5.5),\n",
              " ('2010', 5.6),\n",
              " ('2004', 5.8),\n",
              " ('2011', 5.5),\n",
              " ('2007', 5.7),\n",
              " ('2013', 5.5),\n",
              " ('2012', 5.5),\n",
              " ('2015', 5.5),\n",
              " ('2014', 5.6),\n",
              " ('2019', 5.6),\n",
              " ('2016', 5.5),\n",
              " ('2020', 5.3),\n",
              " ('1894', 6.2),\n",
              " ('1906', 6.1),\n",
              " ('1912', 6.0),\n",
              " ('1914', 6.1),\n",
              " ('1915', 6.3),\n",
              " ('1917', 6.3),\n",
              " ('1916', 6.4),\n",
              " ('1919', 6.4),\n",
              " ('1924', 6.7),\n",
              " ('1922', 6.4),\n",
              " ('1923', 6.7),\n",
              " ('1926', 6.7),\n",
              " ('1935', 6.3),\n",
              " ('1929', 6.3),\n",
              " ('1930', 6.0),\n",
              " ('1931', 6.2),\n",
              " ('1932', 6.3),\n",
              " ('1933', 6.4),\n",
              " ('1942', 6.3),\n",
              " ('1944', 6.3),\n",
              " ('1945', 6.4),\n",
              " ('1946', 6.4),\n",
              " ('1973', 6.0),\n",
              " ('1950', 6.5),\n",
              " ('1952', 6.4),\n",
              " ('1953', 6.3),\n",
              " ('1955', 6.4),\n",
              " ('1958', 6.3),\n",
              " ('1959', 6.3),\n",
              " ('1961', 6.3),\n",
              " ('1960', 6.4),\n",
              " ('1963', 6.4),\n",
              " ('1971', 6.0),\n",
              " ('1965', 6.3),\n",
              " ('1968', 6.2),\n",
              " ('1966', 6.2),\n",
              " ('1967', 6.2),\n",
              " ('1976', 6.1),\n",
              " ('1989', 5.8),\n",
              " ('1975', 6.1),\n",
              " ('1974', 6.1),\n",
              " ('1972', 6.1),\n",
              " ('1986', 5.9),\n",
              " ('2018', 5.5),\n",
              " ('1984', 6.0),\n",
              " ('1985', 6.0),\n",
              " ('1988', 5.8),\n",
              " ('1987', 5.8),\n",
              " ('2005', 5.7),\n",
              " ('1992', 5.9),\n",
              " ('1996', 5.8),\n",
              " ('1997', 5.8),\n",
              " ('2006', 5.6),\n",
              " ('1999', 5.8),\n",
              " ('1998', 5.8),\n",
              " ('2001', 5.8),\n",
              " ('2000', 5.7),\n",
              " ('2008', 5.6),\n",
              " ('2009', 5.6),\n",
              " ('TV Movie 2019', 7.1)]"
            ]
          },
          "metadata": {},
          "execution_count": 239
        }
      ]
    }
  ],
  "metadata": {
    "colab": {
      "provenance": []
    },
    "kernelspec": {
      "display_name": "Python 3",
      "name": "python3"
    }
  },
  "nbformat": 4,
  "nbformat_minor": 0
}