{
 "cells": [
  {
   "cell_type": "code",
   "execution_count": 4,
   "id": "cfc7460f",
   "metadata": {},
   "outputs": [],
   "source": [
    "import pyspark\n",
    "import timeit\n",
    "from pyspark.sql import SparkSession\n",
    "spark = SparkSession \\\n",
    "    .builder \\\n",
    "    .appName(\"Assignment\") \\\n",
    "    .enableHiveSupport() \\\n",
    "    .getOrCreate()\n"
   ]
  },
  {
   "cell_type": "code",
   "execution_count": null,
   "id": "114fbdbd",
   "metadata": {},
   "outputs": [],
   "source": [
    "yellow_taxi_2023=spark.read.parquet(\"s3://pras1-assignment-playbook_files/yellow_tripdata_2023-01.parquet\")\n",
    "yellow_taxi_2023.printSchema()\n",
    "\n"
   ]
  },
  {
   "cell_type": "code",
   "execution_count": null,
   "id": "58f45f5b",
   "metadata": {},
   "outputs": [],
   "source": [
    "taxi_lookup=spark.read.option(\"header\",True) \\\n",
    "     .csv(\"s3://pras1-assignment-playbook_files/taxi+_zone_lookup.csv\")\n",
    "taxi_lookup.printSchema()\n",
    "\n"
   ]
  },
  {
   "cell_type": "code",
   "execution_count": 6,
   "id": "2f800e3b",
   "metadata": {},
   "outputs": [],
   "source": [
    "start=timeit.default_timer()\n",
    "count_of_trips=yellow_taxi_2023.count()\n",
    "end=timeit.default_timer()\n",
    "elap_time_count=end-start\n"
   ]
  },
  {
   "cell_type": "code",
   "execution_count": null,
   "id": "52833ec8",
   "metadata": {},
   "outputs": [],
   "source": [
    "from pyspark.sql.functions import mean\n",
    "start=timeit.default_timer()\n",
    "yellow_taxi_2023.select(mean ('trip_distance')).show()\n",
    "end=timeit.default_timer()\n",
    "elap_time_average=end-start\n"
   ]
  },
  {
   "cell_type": "code",
   "execution_count": null,
   "id": "38d741bf",
   "metadata": {},
   "outputs": [],
   "source": [
    "from pyspark.sql.functions import mean,sum,avg\n",
    "start=timeit.default_timer()\n",
    "yellow_taxi_2023.select(sum('fare_amount')).show()\n",
    "end=timeit.default_timer()\n",
    "elap_time_sum=end-start\n"
   ]
  },
  {
   "cell_type": "code",
   "execution_count": null,
   "id": "7134d513",
   "metadata": {},
   "outputs": [],
   "source": [
    "from pyspark.sql.functions import  coalesce, lit, mean, sum, avg, col,SaveMode\n",
    "start=timeit.default_timer()\n",
    "comp_query=yellow_taxi_2023.alias(\"tripp\").join(taxi_lookup.alias(\"locc\"),\\\n",
    "                                                col(\"tripp.PULocationID\")==col(\"locc.LocationID\"),\"inner\")\\\n",
    ".select(col(\"locc.Borough\").alias(\"borough\"),\n",
    "        col(\"locc.Zone\").alias(\"zone\"),\n",
    "        col(\"tripp.fare_amount\").alias(\"fare\")).\\\n",
    "where(col(\"tripp.tolls_amount\") !=lit(0)).groupby(\"borough\").agg(avg(\"fare\").\\\n",
    "                                                    alias(\"average_fare_for_toll_routes\"))\n",
    "end=timeit.default_timer()\n",
    "elap_time_transformation=end-start\n",
    "start=timeit.default_timer()\n",
    "comp_query.show()\n",
    "end=timeit.default_timer()\n",
    "elap_time_action=end-start\n"
   ]
  },
  {
   "cell_type": "code",
   "execution_count": null,
   "id": "5ff7fd1b",
   "metadata": {},
   "outputs": [],
   "source": [
    "spark = SparkSession \\\n",
    "    .builder \\\n",
    "    .appName(\"Assignment\") \\\n",
    "    .enableHiveSupport() \\\n",
    "    .getOrCreate()\n",
    "\n",
    "# creation of empty datafreme for tracking time for operations\n",
    "from pyspark.sql.types import StructType,StructField, StringType, IntegerType,FloatType\n",
    "schema = StructType([ \\\n",
    "    StructField(\"operation\",StringType(),True), \\\n",
    "    StructField(\"spark_elapsed_time\",FloatType(),True), \\\n",
    "    StructField(\"hive_elapsed_time\",FloatType(),True)\n",
    "  ])\n",
    "data_collected = [(\"count\",elap_time_count,15.724),\n",
    "    (\"average\",elap_time_average,9.571),\n",
    "    (\"sum\",elap_time_sum,8.953),\n",
    "    (\"comp_query\",elap_time_action,18.86)\n",
    "  ]\n",
    "perfDf = spark.createDataFrame(data=data_collected,schema=schema)\n",
    "\n",
    "perfDf.write\\\n",
    "        .option(\"path\", \"s3://pras1-assignment-playbook_files/hive_ext_table\")\\\n",
    "        .saveAsTable(\"perf_difference\")\n",
    "spark.sql(\"select * from perf_difference\").show()"
   ]
  },
  {
   "cell_type": "code",
   "execution_count": 7,
   "id": "b994454d",
   "metadata": {},
   "outputs": [],
   "source": [
    "#creating hive table from dataframe\n",
    "yellow_taxi_2023.write\\\n",
    "        .option(\"path\", \"s3://pras1-assignment-playbook_files/taxi_trips\")\\\n",
    "        .saveAsTable(\"yellow_taxi_tripss\")\n",
    "spark.sql(\"select * from yellow_taxi_tripss\").show()\n",
    "taxi_lookup.write\\\n",
    "        .option(\"path\", \"s3://pras1-assignment-playbook_files/taxi_lookup\")\\\n",
    "        .saveAsTable(\"taxilookupp\")\n",
    "spark.sql(\"select * from taxilookupp\").show()"
   ]
  },
  {
   "cell_type": "code",
   "execution_count": null,
   "id": "7bba8003",
   "metadata": {},
   "outputs": [],
   "source": []
  }
 ],
 "metadata": {
  "kernelspec": {
   "display_name": "Python 3",
   "language": "python",
   "name": "python3"
  },
  "language_info": {
   "codemirror_mode": {
    "name": "ipython",
    "version": 3
   },
   "file_extension": ".py",
   "mimetype": "text/x-python",
   "name": "python",
   "nbconvert_exporter": "python",
   "pygments_lexer": "ipython3",
   "version": "3.8.8"
  }
 },
 "nbformat": 4,
 "nbformat_minor": 5
}
